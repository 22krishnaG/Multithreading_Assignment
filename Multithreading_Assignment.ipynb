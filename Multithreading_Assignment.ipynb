{
 "cells": [
  {
   "attachments": {},
   "cell_type": "markdown",
   "metadata": {},
   "source": [
    "# MULTITHREADING ASSIGNMENT"
   ]
  },
  {
   "attachments": {},
   "cell_type": "markdown",
   "metadata": {},
   "source": [
    "### Q1. What is multithreading in python? Why is it used? Name the module used to handle threads in python.\n",
    "Ans. Multithreading in Python refers to the execution of multiple threads simultaneously within the same program. A thread is a separate flow of execution that can run in parallel with other threads.\n",
    "\n",
    "Multithreading is used to improve the performance of a program by allowing it to execute multiple tasks concurrently, making it more responsive to user input and reducing the time it takes to complete long-running operations.\n",
    "The threading module is used to handle threads in Python. It provides a way to create and manage threads in a program. The module provides the Thread class, which is used to create a new thread. The Thread class takes a target function as an argument, which is the function that will be executed in the new thread.\n",
    "\n",
    "Here's an example of how to use the threading module in Python:\n",
    "import threading\n",
    "\n",
    "##### Define a function to be executed in a thread\n",
    "def my_function():\n",
    "    print(\"Thread starting...\")\n",
    "    # Do some work here...\n",
    "    print(\"Thread finished.\")\n",
    "\n",
    "##### Create a new thread\n",
    "my_thread = threading.Thread(target=my_function)\n",
    "\n",
    "###### Start the thread\n",
    "my_thread.start()\n",
    "\n",
    "###### Wait for the thread to finish\n",
    "my_thread.join()\n",
    "\n",
    "print(\"All threads finished.\")\n",
    "\n",
    "In this example, we define a function 'my_function()' that will be executed in a separate thread. We then create a new thread using the Thread class and pass 'my_function()' as the target. Finally, we start the thread and wait for it to finish using the 'join()' method."
   ]
  },
  {
   "attachments": {},
   "cell_type": "markdown",
   "metadata": {},
   "source": [
    "## Q2. why threading module used? Write the use of the following functions\n",
    "1. activeCount()\n",
    "2. currentThread()\n",
    "3. enumerate()\n",
    "\n",
    "Ans. \n",
    "The threading module is used in Python to create and manage threads within a program. It provides a way to run multiple threads concurrently within the same process, allowing for better utilization of system resources and improved program performance.\n",
    "\n",
    "Here are the uses of the following functions in the threading module:\n",
    "\n",
    "1. 'activeCount()': This function returns the number of currently active threads in the program. This can be useful for monitoring the number of threads in a program and detecting potential issues with thread management.\n",
    "Example usage:\n",
    "import threading\n",
    "\n",
    "##### Get the number of currently active threads\n",
    "num_threads = threading.activeCount()\n",
    "print(f\"There are {num_threads} active threads.\")\n",
    "\n",
    "2.  'currentThread()': This function returns a reference to the current thread object. This can be useful for getting information about the current thread, such as its name or ID.\n",
    "Example usage:\n",
    "import threading\n",
    "\n",
    "##### Get a reference to the current thread\n",
    "current_thread = threading.currentThread()\n",
    "print(f\"Current thread name: {current_thread.name}\")\n",
    "\n",
    "3.  'enumerate()': This function returns a list of all currently active Thread objects. This can be useful for iterating over all threads in a program and performing operations on them.\n",
    "Example usage:\n",
    "import threading\n",
    "\n",
    "##### Get a list of all currently active threads\n",
    "all_threads = threading.enumerate()\n",
    "\n",
    "##### Print information about each thread\n",
    "for thread in all_threads:\n",
    "    print(f\"Thread name: {thread.name}, Thread ID: {thread.ident}\")\n",
    "\n",
    "In this example, we use the enumerate() function to get a list of all currently active threads in the program. We then iterate over the list and print information about each thread, including its name and ID.\n"
   ]
  },
  {
   "attachments": {},
   "cell_type": "markdown",
   "metadata": {},
   "source": [
    "### Q3. Explain the following functions;\n",
    "1. run()\n",
    "2. start()\n",
    "3. join()\n",
    "4. isAlive()\n",
    "Ans: Here are the explanations of the following functions in the threading module:\n",
    "\n",
    "1. run(): This method is the entry point for a thread when it begins running. It contains the code that will be executed in the thread. It should be overridden in a subclass of the Thread class to define the behavior of the thread.\n",
    "\n",
    "2. start(): This method starts the execution of a thread. It creates a new thread and calls the run() method on the new thread. The thread will continue to run until its run() method returns or the thread is terminated.\n",
    "\n",
    "3. join(): This method blocks the calling thread until the thread it is called on has completed its execution. When a thread is started using the start() method, the calling thread can use the join() method to wait for the new thread to complete before continuing execution.\n",
    "\n",
    "4. isAlive(): This method returns a boolean value indicating whether the thread is currently running. If the thread has completed execution, this method will return False. Otherwise, it will return True.\n",
    "\n",
    "Here is an example that demonstrates the usage of these methods:\n",
    "import threading\n",
    "import time\n",
    "\n",
    "######  Define a subclass of the Thread class\n",
    "class MyThread(threading.Thread):\n",
    "    def run(self):\n",
    "        print(f\"{self.name} starting\")\n",
    "        time.sleep(2)\n",
    "        print(f\"{self.name} finishing\")\n",
    "\n",
    "######  Create a new instance of the MyThread class\n",
    "t = MyThread()\n",
    "\n",
    "######  Start the thread\n",
    "t.start()\n",
    "\n",
    "###### Wait for the thread to complete using the join() method\n",
    "t.join()\n",
    "\n",
    "######  Check if the thread is still alive using the isAlive() method\n",
    "if t.isAlive():\n",
    "    print(\"Thread is still running\")\n",
    "else:\n",
    "    print(\"Thread has completed\")\n",
    "\n",
    "In this example, we define a subclass of the Thread class called MyThread. We override the run() method to print a message and then sleep for 2 seconds before printing another message. We create a new instance of the MyThread class, start the thread using the start() method, and wait for it to complete using the join() method. Finally, we use the isAlive() method to check if the thread is still running and print a message indicating its status."
   ]
  },
  {
   "attachments": {},
   "cell_type": "markdown",
   "metadata": {},
   "source": [
    "## Q4. Write a python program to create two threads. Thread one must print the list of squares and thread two must print the list of cubes\n",
    "Ans. "
   ]
  },
  {
   "cell_type": "code",
   "execution_count": 1,
   "metadata": {},
   "outputs": [
    {
     "name": "stdout",
     "output_type": "stream",
     "text": [
      "Square of 1 is 1\n",
      "Square of 2 is 4\n",
      "Square of 3 is 9\n",
      "Square of 4 is 16\n",
      "Square of 5 is 25\n",
      "Cube of 1 is 1\n",
      "Cube of 2 is 8\n",
      "Cube of 3 is 27\n",
      "Cube of 4 is 64\n",
      "Cube of 5 is 125\n",
      "Done\n"
     ]
    }
   ],
   "source": [
    "import threading\n",
    "\n",
    "def print_squares():\n",
    "    for i in range(1, 6):\n",
    "        print(f\"Square of {i} is {i*i}\")\n",
    "\n",
    "def print_cubes():\n",
    "    for i in range(1, 6):\n",
    "        print(f\"Cube of {i} is {i*i*i}\")\n",
    "\n",
    "# Create two threads\n",
    "t1 = threading.Thread(target=print_squares)\n",
    "t2 = threading.Thread(target=print_cubes)\n",
    "\n",
    "# Start the threads\n",
    "t1.start()\n",
    "t2.start()\n",
    "\n",
    "# Wait for the threads to complete\n",
    "t1.join()\n",
    "t2.join()\n",
    "\n",
    "print(\"Done\")\n"
   ]
  },
  {
   "attachments": {},
   "cell_type": "markdown",
   "metadata": {},
   "source": [
    "In this program, we define two functions print_squares() and print_cubes() that print the squares and cubes of the numbers from 1 to 5 respectively. We create two threads t1 and t2 and assign each function as the target of the threads using the target parameter. We start the threads using the start() method and wait for them to complete using the join() method. Finally, we print a message to indicate that the program has completed. When we run this program, it will print the squares and cubes of the numbers from 1 to 5 in a random order because the threads are executing concurrently."
   ]
  },
  {
   "attachments": {},
   "cell_type": "markdown",
   "metadata": {},
   "source": [
    "## Q5. State advantages and disadvantages of multithreading\n",
    "Ans. Advantages of multithreading:\n",
    "\n",
    "1.  Increased Efficiency: Multithreading can increase the efficiency of a program by allowing multiple tasks to be executed simultaneously. This can lead to faster execution times and better performance.\n",
    "\n",
    "2. Better Resource Utilization: Multithreading allows better utilization of system resources by allowing multiple threads to run concurrently. This can help to make better use of CPU, memory and other resources.\n",
    "\n",
    "3. Responsiveness: Multithreading can improve the responsiveness of a program by allowing the user interface to remain responsive while background tasks are executed in separate threads.\n",
    "\n",
    "4. Simplified Design: Multithreading can simplify the design of a program by allowing complex tasks to be broken down into smaller, more manageable tasks that can be executed concurrently.\n",
    "\n",
    "Disadvantages of multithreading:\n",
    "\n",
    "1. Complexity: Multithreading can add complexity to a program, making it harder to design, debug and maintain.\n",
    "\n",
    "2. Synchronization: Multithreading requires proper synchronization to avoid race conditions and other synchronization issues. This can be difficult to achieve and can lead to hard-to-debug problems.\n",
    "\n",
    "3. Overhead: Multithreading can add overhead to a program, such as the overhead of creating and managing threads. This overhead can reduce the efficiency of a program.\n",
    "\n",
    "4. Debugging: Debugging multithreaded programs can be difficult because threads can execute concurrently and interact in unpredictable ways. This can make it hard to reproduce and diagnose bugs.\n",
    "\n",
    "Overall, the benefits of multithreading can outweigh the drawbacks, but it's important to carefully consider the design and implementation of multithreaded programs to ensure that they are reliable, efficient and maintainable."
   ]
  },
  {
   "attachments": {},
   "cell_type": "markdown",
   "metadata": {},
   "source": [
    "## Q6. Explain deadlocks and race conditions.\n",
    "Ans. \n",
    "Deadlock:\n",
    "\n",
    "A deadlock occurs when two or more threads are blocked, waiting for each other to release a resource that they need to proceed. In other words, each thread is waiting for the other to complete its work, resulting in a situation where neither thread can make progress.\n",
    "\n",
    "For example, imagine two threads, Thread A and Thread B, both need access to two shared resources, Resource 1 and Resource 2. Thread A locks Resource 1, while Thread B locks Resource 2. Now, if Thread A tries to lock Resource 2 and Thread B tries to lock Resource 1, they will both be blocked, and the system will be deadlocked.\n",
    "\n",
    "Deadlocks can cause a program to hang or become unresponsive, and they can be difficult to detect and resolve.\n",
    "\n",
    "Race Condition:\n",
    "\n",
    "A race condition occurs when two or more threads access a shared resource at the same time, and the final result depends on the order in which the threads execute. In other words, the output of the program depends on which thread wins the \"race\" to access the resource.\n",
    "\n",
    "For example, imagine two threads, Thread A and Thread B, both need to increment a shared counter. If both threads access the counter at the same time, the final value of the counter will depend on which thread gets to increment it first. This can lead to inconsistent or incorrect results.\n",
    "\n",
    "Race conditions can be difficult to detect and reproduce because they depend on the timing and order of thread execution. They can also be difficult to resolve because they require careful synchronization of shared resources to ensure that threads access them in a predictable and consistent way."
   ]
  },
  {
   "cell_type": "markdown",
   "metadata": {},
   "source": []
  },
  {
   "cell_type": "markdown",
   "metadata": {},
   "source": []
  },
  {
   "cell_type": "markdown",
   "metadata": {},
   "source": []
  },
  {
   "cell_type": "markdown",
   "metadata": {},
   "source": []
  }
 ],
 "metadata": {
  "kernelspec": {
   "display_name": "Python 3",
   "language": "python",
   "name": "python3"
  },
  "language_info": {
   "codemirror_mode": {
    "name": "ipython",
    "version": 3
   },
   "file_extension": ".py",
   "mimetype": "text/x-python",
   "name": "python",
   "nbconvert_exporter": "python",
   "pygments_lexer": "ipython3",
   "version": "3.10.9"
  },
  "orig_nbformat": 4
 },
 "nbformat": 4,
 "nbformat_minor": 2
}
